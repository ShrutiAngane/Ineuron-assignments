{
 "cells": [
  {
   "cell_type": "markdown",
   "metadata": {},
   "source": [
    "### Problem Statement no.1:"
   ]
  },
  {
   "cell_type": "code",
   "execution_count": 15,
   "metadata": {},
   "outputs": [
    {
     "name": "stdout",
     "output_type": "stream",
     "text": [
      "enter side one4\n",
      "enter side two7\n",
      "enter side three9\n",
      "13.416407864998739\n"
     ]
    }
   ],
   "source": [
    "class parent:\n",
    "    def __init__(self):\n",
    "        self.a=0\n",
    "        self.b=0\n",
    "        self.c=0\n",
    "    def user_input(self):\n",
    "        self.a=int(input('enter side one'))\n",
    "        self.b=int(input('enter side two'))\n",
    "        self.c=int(input('enter side three'))\n",
    "class child(parent):\n",
    "    def __init__(self):\n",
    "        parent.__init__(self)\n",
    "        self.s=0\n",
    "    def calculate(self):\n",
    "        self.s=(self.a+self.b+self.c)//2\n",
    "        result=(self.s*(self.s-self.a)*(self.s-self.b)*(self.s-self.c))**0.5\n",
    "        return result\n",
    "ch=child()\n",
    "ch.user_input()\n",
    "value=ch.calculate()\n",
    "print(value)"
   ]
  },
  {
   "cell_type": "code",
   "execution_count": 1,
   "metadata": {},
   "outputs": [
    {
     "name": "stdout",
     "output_type": "stream",
     "text": [
      "5\n",
      "['shruti', 'shubham', 'akshay']\n"
     ]
    }
   ],
   "source": [
    "def filter_long_words(my_list,n):\n",
    "    result=[]\n",
    "    for i in range(0,len(my_list)):\n",
    "        if len(my_list[i])>n:\n",
    "            result.append(my_list[i])\n",
    "    return result\n",
    "my_list=['shruti','venky','shubham','akshay','parth']\n",
    "n=int(input())\n",
    "output=filter_long_words(my_list,n)\n",
    "print(output)        "
   ]
  },
  {
   "cell_type": "code",
   "execution_count": 10,
   "metadata": {},
   "outputs": [
    {
     "name": "stdout",
     "output_type": "stream",
     "text": [
      "[2, 3, 4]\n"
     ]
    }
   ],
   "source": [
    "def length_of_word(my_list):\n",
    "    result=[]\n",
    "    for i in range(0,len(my_list)):\n",
    "        length=len(my_list[i])\n",
    "        result.append(length)\n",
    "    return result\n",
    "my_list=['ab','cde','erty']\n",
    "output=length_of_word(my_list)\n",
    "print(output)        "
   ]
  },
  {
   "cell_type": "code",
   "execution_count": 3,
   "metadata": {},
   "outputs": [
    {
     "name": "stdout",
     "output_type": "stream",
     "text": [
      "Please enter a string of length 1: r\n"
     ]
    },
    {
     "data": {
      "text/plain": [
       "False"
      ]
     },
     "execution_count": 3,
     "metadata": {},
     "output_type": "execute_result"
    }
   ],
   "source": [
    "def vowel(string):\n",
    "    vowels=['a','e','i','o','u']\n",
    "    if string in vowels:\n",
    "        return True\n",
    "    else:\n",
    "        return False\n",
    "string=input('Please enter a string of length 1: ')\n",
    "vowel(string)"
   ]
  },
  {
   "cell_type": "code",
   "execution_count": null,
   "metadata": {},
   "outputs": [],
   "source": []
  }
 ],
 "metadata": {
  "kernelspec": {
   "display_name": "Python 3",
   "language": "python",
   "name": "python3"
  },
  "language_info": {
   "codemirror_mode": {
    "name": "ipython",
    "version": 3
   },
   "file_extension": ".py",
   "mimetype": "text/x-python",
   "name": "python",
   "nbconvert_exporter": "python",
   "pygments_lexer": "ipython3",
   "version": "3.8.3"
  }
 },
 "nbformat": 4,
 "nbformat_minor": 4
}
